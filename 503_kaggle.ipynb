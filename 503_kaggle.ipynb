{
 "cells": [
  {
   "cell_type": "code",
   "execution_count": null,
   "metadata": {},
   "outputs": [],
   "source": [
    "! pip3 install xgboost catboost lightgbm optuna"
   ]
  },
  {
   "cell_type": "code",
   "execution_count": 2,
   "metadata": {},
   "outputs": [],
   "source": [
    "import pandas as pd\n",
    "import numpy as np\n",
    "import matplotlib.pyplot as plt\n",
    "\n",
    "import warnings\n",
    "\n",
    "warnings.filterwarnings('ignore')\n",
    "\n",
    "from sklearn.linear_model import LinearRegression\n",
    "from sklearn.neighbors import KNeighborsRegressor\n",
    "from sklearn.tree import DecisionTreeRegressor\n",
    "from sklearn.svm import SVR\n",
    "\n",
    "from xgboost import XGBRegressor\n",
    "from sklearn.ensemble import RandomForestRegressor\n",
    "from catboost import CatBoostRegressor\n",
    "from lightgbm import LGBMRegressor\n",
    "\n",
    "from sklearn.metrics import r2_score\n",
    "from sklearn.model_selection import cross_val_score, KFold\n",
    "\n",
    "from sklearn.pipeline import Pipeline\n",
    "from sklearn.compose import ColumnTransformer\n",
    "from sklearn.model_selection import train_test_split\n",
    "from sklearn.preprocessing import StandardScaler, OneHotEncoder\n",
    "\n",
    "import optuna"
   ]
  },
  {
   "cell_type": "code",
   "execution_count": 3,
   "metadata": {},
   "outputs": [],
   "source": [
    "df = pd.read_csv('train.csv')"
   ]
  },
  {
   "cell_type": "markdown",
   "metadata": {},
   "source": [
    "# Data Inspection"
   ]
  },
  {
   "cell_type": "code",
   "execution_count": 3,
   "metadata": {},
   "outputs": [
    {
     "data": {
      "text/html": [
       "<div>\n",
       "<style scoped>\n",
       "    .dataframe tbody tr th:only-of-type {\n",
       "        vertical-align: middle;\n",
       "    }\n",
       "\n",
       "    .dataframe tbody tr th {\n",
       "        vertical-align: top;\n",
       "    }\n",
       "\n",
       "    .dataframe thead th {\n",
       "        text-align: right;\n",
       "    }\n",
       "</style>\n",
       "<table border=\"1\" class=\"dataframe\">\n",
       "  <thead>\n",
       "    <tr style=\"text-align: right;\">\n",
       "      <th></th>\n",
       "      <th>SEQN</th>\n",
       "      <th>self_eval</th>\n",
       "      <th>teacher_eval</th>\n",
       "      <th>extracurricular</th>\n",
       "      <th>district</th>\n",
       "      <th>SRP_1</th>\n",
       "      <th>SRP_2</th>\n",
       "      <th>SRP_3</th>\n",
       "      <th>SRP_4</th>\n",
       "      <th>SRP_5</th>\n",
       "      <th>...</th>\n",
       "      <th>SRP_42</th>\n",
       "      <th>SRP_43</th>\n",
       "      <th>SRP_44</th>\n",
       "      <th>SRP_45</th>\n",
       "      <th>SRP_46</th>\n",
       "      <th>SRP_47</th>\n",
       "      <th>SRP_48</th>\n",
       "      <th>SRP_49</th>\n",
       "      <th>SRP_50</th>\n",
       "      <th>y</th>\n",
       "    </tr>\n",
       "  </thead>\n",
       "  <tbody>\n",
       "    <tr>\n",
       "      <th>0</th>\n",
       "      <td>969167</td>\n",
       "      <td>4</td>\n",
       "      <td>5</td>\n",
       "      <td>9</td>\n",
       "      <td>3</td>\n",
       "      <td>-0.181</td>\n",
       "      <td>-0.379</td>\n",
       "      <td>-0.164</td>\n",
       "      <td>0.080</td>\n",
       "      <td>0.378</td>\n",
       "      <td>...</td>\n",
       "      <td>-1.156</td>\n",
       "      <td>-0.730</td>\n",
       "      <td>-0.508</td>\n",
       "      <td>-0.497</td>\n",
       "      <td>0.224</td>\n",
       "      <td>0.412</td>\n",
       "      <td>-0.517</td>\n",
       "      <td>0.099</td>\n",
       "      <td>0.114</td>\n",
       "      <td>-1.315</td>\n",
       "    </tr>\n",
       "    <tr>\n",
       "      <th>1</th>\n",
       "      <td>188942</td>\n",
       "      <td>4</td>\n",
       "      <td>3</td>\n",
       "      <td>5</td>\n",
       "      <td>4</td>\n",
       "      <td>-0.126</td>\n",
       "      <td>1.603</td>\n",
       "      <td>1.021</td>\n",
       "      <td>0.489</td>\n",
       "      <td>-1.404</td>\n",
       "      <td>...</td>\n",
       "      <td>-0.318</td>\n",
       "      <td>1.240</td>\n",
       "      <td>-1.993</td>\n",
       "      <td>2.021</td>\n",
       "      <td>-1.078</td>\n",
       "      <td>-0.277</td>\n",
       "      <td>0.802</td>\n",
       "      <td>0.253</td>\n",
       "      <td>-0.720</td>\n",
       "      <td>1.997</td>\n",
       "    </tr>\n",
       "    <tr>\n",
       "      <th>2</th>\n",
       "      <td>134058</td>\n",
       "      <td>1</td>\n",
       "      <td>2</td>\n",
       "      <td>8</td>\n",
       "      <td>5</td>\n",
       "      <td>0.724</td>\n",
       "      <td>-0.702</td>\n",
       "      <td>2.249</td>\n",
       "      <td>0.910</td>\n",
       "      <td>0.330</td>\n",
       "      <td>...</td>\n",
       "      <td>0.449</td>\n",
       "      <td>1.980</td>\n",
       "      <td>-0.401</td>\n",
       "      <td>-0.544</td>\n",
       "      <td>-0.944</td>\n",
       "      <td>1.592</td>\n",
       "      <td>0.875</td>\n",
       "      <td>-0.734</td>\n",
       "      <td>-2.336</td>\n",
       "      <td>3.709</td>\n",
       "    </tr>\n",
       "    <tr>\n",
       "      <th>3</th>\n",
       "      <td>124022</td>\n",
       "      <td>3</td>\n",
       "      <td>3</td>\n",
       "      <td>10</td>\n",
       "      <td>6</td>\n",
       "      <td>0.706</td>\n",
       "      <td>-0.302</td>\n",
       "      <td>1.023</td>\n",
       "      <td>-0.895</td>\n",
       "      <td>0.625</td>\n",
       "      <td>...</td>\n",
       "      <td>2.025</td>\n",
       "      <td>-2.289</td>\n",
       "      <td>-0.407</td>\n",
       "      <td>0.025</td>\n",
       "      <td>-0.515</td>\n",
       "      <td>0.408</td>\n",
       "      <td>1.380</td>\n",
       "      <td>-1.075</td>\n",
       "      <td>-2.451</td>\n",
       "      <td>1.155</td>\n",
       "    </tr>\n",
       "    <tr>\n",
       "      <th>4</th>\n",
       "      <td>685285</td>\n",
       "      <td>5</td>\n",
       "      <td>5</td>\n",
       "      <td>1</td>\n",
       "      <td>5</td>\n",
       "      <td>-0.350</td>\n",
       "      <td>-1.001</td>\n",
       "      <td>0.931</td>\n",
       "      <td>0.192</td>\n",
       "      <td>0.491</td>\n",
       "      <td>...</td>\n",
       "      <td>-0.118</td>\n",
       "      <td>-0.288</td>\n",
       "      <td>0.457</td>\n",
       "      <td>-0.566</td>\n",
       "      <td>0.822</td>\n",
       "      <td>-0.317</td>\n",
       "      <td>0.661</td>\n",
       "      <td>2.096</td>\n",
       "      <td>0.004</td>\n",
       "      <td>-1.960</td>\n",
       "    </tr>\n",
       "  </tbody>\n",
       "</table>\n",
       "<p>5 rows × 56 columns</p>\n",
       "</div>"
      ],
      "text/plain": [
       "     SEQN  self_eval  teacher_eval  extracurricular  district  SRP_1  SRP_2  \\\n",
       "0  969167          4             5                9         3 -0.181 -0.379   \n",
       "1  188942          4             3                5         4 -0.126  1.603   \n",
       "2  134058          1             2                8         5  0.724 -0.702   \n",
       "3  124022          3             3               10         6  0.706 -0.302   \n",
       "4  685285          5             5                1         5 -0.350 -1.001   \n",
       "\n",
       "   SRP_3  SRP_4  SRP_5  ...  SRP_42  SRP_43  SRP_44  SRP_45  SRP_46  SRP_47  \\\n",
       "0 -0.164  0.080  0.378  ...  -1.156  -0.730  -0.508  -0.497   0.224   0.412   \n",
       "1  1.021  0.489 -1.404  ...  -0.318   1.240  -1.993   2.021  -1.078  -0.277   \n",
       "2  2.249  0.910  0.330  ...   0.449   1.980  -0.401  -0.544  -0.944   1.592   \n",
       "3  1.023 -0.895  0.625  ...   2.025  -2.289  -0.407   0.025  -0.515   0.408   \n",
       "4  0.931  0.192  0.491  ...  -0.118  -0.288   0.457  -0.566   0.822  -0.317   \n",
       "\n",
       "   SRP_48  SRP_49  SRP_50      y  \n",
       "0  -0.517   0.099   0.114 -1.315  \n",
       "1   0.802   0.253  -0.720  1.997  \n",
       "2   0.875  -0.734  -2.336  3.709  \n",
       "3   1.380  -1.075  -2.451  1.155  \n",
       "4   0.661   2.096   0.004 -1.960  \n",
       "\n",
       "[5 rows x 56 columns]"
      ]
     },
     "execution_count": 3,
     "metadata": {},
     "output_type": "execute_result"
    }
   ],
   "source": [
    "df.head()"
   ]
  },
  {
   "cell_type": "code",
   "execution_count": 4,
   "metadata": {},
   "outputs": [
    {
     "data": {
      "text/plain": [
       "SEQN                 int64\n",
       "self_eval            int64\n",
       "teacher_eval         int64\n",
       "extracurricular      int64\n",
       "district             int64\n",
       "SRP_1              float64\n",
       "SRP_2              float64\n",
       "SRP_3              float64\n",
       "SRP_4              float64\n",
       "SRP_5              float64\n",
       "SRP_6              float64\n",
       "SRP_7              float64\n",
       "SRP_8              float64\n",
       "SRP_9              float64\n",
       "SRP_10             float64\n",
       "SRP_11             float64\n",
       "SRP_12             float64\n",
       "SRP_13             float64\n",
       "SRP_14             float64\n",
       "SRP_15             float64\n",
       "SRP_16             float64\n",
       "SRP_17             float64\n",
       "SRP_18             float64\n",
       "SRP_19             float64\n",
       "SRP_20             float64\n",
       "SRP_21             float64\n",
       "SRP_22             float64\n",
       "SRP_23             float64\n",
       "SRP_24             float64\n",
       "SRP_25             float64\n",
       "SRP_26             float64\n",
       "SRP_27             float64\n",
       "SRP_28             float64\n",
       "SRP_29             float64\n",
       "SRP_30             float64\n",
       "SRP_31             float64\n",
       "SRP_32             float64\n",
       "SRP_33             float64\n",
       "SRP_34             float64\n",
       "SRP_35             float64\n",
       "SRP_36             float64\n",
       "SRP_37             float64\n",
       "SRP_38             float64\n",
       "SRP_39             float64\n",
       "SRP_40             float64\n",
       "SRP_41             float64\n",
       "SRP_42             float64\n",
       "SRP_43             float64\n",
       "SRP_44             float64\n",
       "SRP_45             float64\n",
       "SRP_46             float64\n",
       "SRP_47             float64\n",
       "SRP_48             float64\n",
       "SRP_49             float64\n",
       "SRP_50             float64\n",
       "y                  float64\n",
       "dtype: object"
      ]
     },
     "execution_count": 4,
     "metadata": {},
     "output_type": "execute_result"
    }
   ],
   "source": [
    "df.dtypes"
   ]
  },
  {
   "cell_type": "code",
   "execution_count": 5,
   "metadata": {},
   "outputs": [
    {
     "data": {
      "text/plain": [
       "SEQN               0\n",
       "self_eval          0\n",
       "teacher_eval       0\n",
       "extracurricular    0\n",
       "district           0\n",
       "SRP_1              0\n",
       "SRP_2              0\n",
       "SRP_3              0\n",
       "SRP_4              0\n",
       "SRP_5              0\n",
       "SRP_6              0\n",
       "SRP_7              0\n",
       "SRP_8              0\n",
       "SRP_9              0\n",
       "SRP_10             0\n",
       "SRP_11             0\n",
       "SRP_12             0\n",
       "SRP_13             0\n",
       "SRP_14             0\n",
       "SRP_15             0\n",
       "SRP_16             0\n",
       "SRP_17             0\n",
       "SRP_18             0\n",
       "SRP_19             0\n",
       "SRP_20             0\n",
       "SRP_21             0\n",
       "SRP_22             0\n",
       "SRP_23             0\n",
       "SRP_24             0\n",
       "SRP_25             0\n",
       "SRP_26             0\n",
       "SRP_27             0\n",
       "SRP_28             0\n",
       "SRP_29             0\n",
       "SRP_30             0\n",
       "SRP_31             0\n",
       "SRP_32             0\n",
       "SRP_33             0\n",
       "SRP_34             0\n",
       "SRP_35             0\n",
       "SRP_36             0\n",
       "SRP_37             0\n",
       "SRP_38             0\n",
       "SRP_39             0\n",
       "SRP_40             0\n",
       "SRP_41             0\n",
       "SRP_42             0\n",
       "SRP_43             0\n",
       "SRP_44             0\n",
       "SRP_45             0\n",
       "SRP_46             0\n",
       "SRP_47             0\n",
       "SRP_48             0\n",
       "SRP_49             0\n",
       "SRP_50             0\n",
       "y                  0\n",
       "dtype: int64"
      ]
     },
     "execution_count": 5,
     "metadata": {},
     "output_type": "execute_result"
    }
   ],
   "source": [
    "df.isna().sum()"
   ]
  },
  {
   "cell_type": "code",
   "execution_count": 6,
   "metadata": {},
   "outputs": [
    {
     "data": {
      "text/plain": [
       "self_eval\n",
       "4    1635\n",
       "1    1618\n",
       "5    1599\n",
       "3    1574\n",
       "2    1574\n",
       "Name: count, dtype: int64"
      ]
     },
     "execution_count": 6,
     "metadata": {},
     "output_type": "execute_result"
    }
   ],
   "source": [
    "df.self_eval.value_counts()"
   ]
  },
  {
   "cell_type": "code",
   "execution_count": 7,
   "metadata": {},
   "outputs": [
    {
     "data": {
      "text/plain": [
       "teacher_eval\n",
       "1    2448\n",
       "2    1558\n",
       "3    1536\n",
       "4    1346\n",
       "5    1112\n",
       "Name: count, dtype: int64"
      ]
     },
     "execution_count": 7,
     "metadata": {},
     "output_type": "execute_result"
    }
   ],
   "source": [
    "df.teacher_eval.value_counts()"
   ]
  },
  {
   "cell_type": "code",
   "execution_count": 8,
   "metadata": {},
   "outputs": [
    {
     "data": {
      "text/plain": [
       "extracurricular\n",
       "2     838\n",
       "6     837\n",
       "5     832\n",
       "9     812\n",
       "8     797\n",
       "10    795\n",
       "3     789\n",
       "4     775\n",
       "7     769\n",
       "1     756\n",
       "Name: count, dtype: int64"
      ]
     },
     "execution_count": 8,
     "metadata": {},
     "output_type": "execute_result"
    }
   ],
   "source": [
    "df.extracurricular.value_counts()"
   ]
  },
  {
   "cell_type": "code",
   "execution_count": 9,
   "metadata": {},
   "outputs": [
    {
     "data": {
      "text/plain": [
       "district\n",
       "2    1170\n",
       "3    1158\n",
       "5    1148\n",
       "1    1137\n",
       "7    1136\n",
       "4    1128\n",
       "6    1123\n",
       "Name: count, dtype: int64"
      ]
     },
     "execution_count": 9,
     "metadata": {},
     "output_type": "execute_result"
    }
   ],
   "source": [
    "df.district.value_counts()"
   ]
  },
  {
   "cell_type": "code",
   "execution_count": 10,
   "metadata": {},
   "outputs": [
    {
     "name": "stdout",
     "output_type": "stream",
     "text": [
      "There are no duplicated rows in df.\n"
     ]
    }
   ],
   "source": [
    "duplicated_rows = df.duplicated()\n",
    "if duplicated_rows.any():\n",
    "    print(\"There are duplicated rows in df.\")\n",
    "else:\n",
    "    print(\"There are no duplicated rows in df.\")\n"
   ]
  },
  {
   "cell_type": "markdown",
   "metadata": {},
   "source": [
    "# Data Prepocessing"
   ]
  },
  {
   "cell_type": "code",
   "execution_count": 6,
   "metadata": {},
   "outputs": [
    {
     "data": {
      "text/plain": [
       "y                  1.000000\n",
       "extracurricular    0.149755\n",
       "SRP_20             0.115713\n",
       "SRP_9              0.113429\n",
       "SRP_47             0.110315\n",
       "SRP_40             0.108693\n",
       "SRP_15             0.107612\n",
       "SRP_46             0.105138\n",
       "SRP_12             0.104504\n",
       "SRP_19             0.104434\n",
       "SRP_1              0.103478\n",
       "SRP_27             0.102983\n",
       "SRP_3              0.102349\n",
       "SRP_13             0.101130\n",
       "SRP_7              0.100855\n",
       "SRP_28             0.100677\n",
       "SRP_6              0.099966\n",
       "SRP_37             0.098517\n",
       "SRP_39             0.097857\n",
       "SRP_41             0.095952\n",
       "SRP_8              0.094737\n",
       "SRP_35             0.094721\n",
       "SRP_24             0.094578\n",
       "SRP_10             0.094183\n",
       "SRP_14             0.093952\n",
       "SRP_17             0.093931\n",
       "SRP_48             0.093091\n",
       "SRP_4              0.092594\n",
       "SRP_32             0.092520\n",
       "SRP_38             0.092379\n",
       "SRP_22             0.090827\n",
       "SRP_5              0.089317\n",
       "SRP_23             0.088495\n",
       "SRP_26             0.087327\n",
       "SRP_30             0.086518\n",
       "SRP_21             0.086460\n",
       "SRP_42             0.086455\n",
       "SRP_2              0.085821\n",
       "SRP_16             0.085572\n",
       "SRP_36             0.084985\n",
       "SRP_43             0.084516\n",
       "SRP_25             0.083713\n",
       "SRP_34             0.082976\n",
       "SRP_49             0.081148\n",
       "SRP_18             0.080741\n",
       "SRP_50             0.079472\n",
       "SRP_44             0.077776\n",
       "SRP_45             0.076976\n",
       "SRP_29             0.075237\n",
       "SRP_33             0.072314\n",
       "SRP_31             0.070883\n",
       "self_eval          0.070408\n",
       "SRP_11             0.069518\n",
       "teacher_eval       0.057733\n",
       "Name: y, dtype: float64"
      ]
     },
     "execution_count": 6,
     "metadata": {},
     "output_type": "execute_result"
    }
   ],
   "source": [
    "correlation = df.drop(['SEQN', 'district'], axis=1).corr()\n",
    "correlation_y = correlation['y'].abs().sort_values(ascending=False)\n",
    "correlation_y\n"
   ]
  },
  {
   "cell_type": "code",
   "execution_count": 28,
   "metadata": {},
   "outputs": [],
   "source": [
    "numerical_features = ['self_eval', 'teacher_eval', 'extracurricular', 'SRP_1', 'SRP_2', 'SRP_3', 'SRP_4', 'SRP_5', 'SRP_6', 'SRP_7', 'SRP_8', 'SRP_9', 'SRP_10', 'SRP_11', 'SRP_12', 'SRP_13', 'SRP_14', 'SRP_15', 'SRP_16', 'SRP_17', 'SRP_18', 'SRP_19', 'SRP_20', 'SRP_21', 'SRP_22', 'SRP_23', 'SRP_24', 'SRP_25', 'SRP_26', 'SRP_27', 'SRP_28', 'SRP_29', 'SRP_30', 'SRP_31', 'SRP_32', 'SRP_33', 'SRP_34', 'SRP_35', 'SRP_36', 'SRP_37', 'SRP_38', 'SRP_39', 'SRP_40', 'SRP_41', 'SRP_42', 'SRP_43', 'SRP_44', 'SRP_45', 'SRP_46', 'SRP_47', 'SRP_48', 'SRP_49', 'SRP_50']\n",
    "categorical_features = ['district']\n",
    "columns_to_drop = ['SEQN']\n",
    "\n",
    "preprocessor1 = ColumnTransformer(\n",
    "    transformers=[\n",
    "        ('num', StandardScaler(), numerical_features),  ## only scale the numerical features\n",
    "        ('cat', OneHotEncoder(), categorical_features),  ## one-hot encode the categorical features\n",
    "        ('drop', 'drop', columns_to_drop)\n",
    "    ], remainder='passthrough'  ## passthrough the remaining columns (if any)\n",
    "        ) \n",
    "\n",
    "preproc_pipeline1 = Pipeline([\n",
    "('preprocessor', preprocessor1),  ## prevent data leakage for each fold\n",
    "])"
   ]
  },
  {
   "cell_type": "code",
   "execution_count": 29,
   "metadata": {},
   "outputs": [],
   "source": [
    "numerical_features = ['self_eval', 'extracurricular', 'SRP_1', 'SRP_2', 'SRP_3', 'SRP_4', 'SRP_5', 'SRP_6', 'SRP_7', 'SRP_8', 'SRP_9', 'SRP_10', 'SRP_11', 'SRP_12', 'SRP_13', 'SRP_14', 'SRP_15', 'SRP_16', 'SRP_17', 'SRP_18', 'SRP_19', 'SRP_20', 'SRP_21', 'SRP_22', 'SRP_23', 'SRP_24', 'SRP_25', 'SRP_26', 'SRP_27', 'SRP_28', 'SRP_29', 'SRP_30', 'SRP_31', 'SRP_32', 'SRP_33', 'SRP_34', 'SRP_35', 'SRP_36', 'SRP_37', 'SRP_38', 'SRP_39', 'SRP_40', 'SRP_41', 'SRP_42', 'SRP_43', 'SRP_44', 'SRP_45', 'SRP_46', 'SRP_47', 'SRP_48', 'SRP_49', 'SRP_50']\n",
    "categorical_features = ['district']\n",
    "columns_to_drop = ['SEQN', 'teacher_eval']\n",
    "\n",
    "preprocessor2 = ColumnTransformer(\n",
    "    transformers=[\n",
    "        ('drop', 'drop', columns_to_drop),\n",
    "        ('num', StandardScaler(), numerical_features),  ## only scale the numerical features\n",
    "        ('cat', OneHotEncoder(), categorical_features),  ## one-hot encode the categorical features\n",
    "    ], remainder='passthrough'  ## passthrough the remaining columns (if any)\n",
    "        ) \n",
    "\n",
    "preproc_pipeline2 = Pipeline([\n",
    "('preprocessor', preprocessor2),  ## prevent data leakage for each fold\n",
    "])"
   ]
  },
  {
   "cell_type": "code",
   "execution_count": 30,
   "metadata": {},
   "outputs": [],
   "source": [
    "X = df.drop(['y'], axis=1)\n",
    "y = df['y']"
   ]
  },
  {
   "cell_type": "code",
   "execution_count": 27,
   "metadata": {},
   "outputs": [],
   "source": [
    "# train test split\n",
    "\n",
    "X_train, X_test, y_train, y_test = train_test_split(X, y, test_size=0.2, random_state=42)\n",
    "\n",
    "X_train = preproc_pipeline.fit_transform(X_train)\n",
    "X_test = preproc_pipeline.transform(X_test)"
   ]
  },
  {
   "cell_type": "markdown",
   "metadata": {},
   "source": [
    "# ML Modeling Without Tuning"
   ]
  },
  {
   "cell_type": "code",
   "execution_count": null,
   "metadata": {},
   "outputs": [],
   "source": [
    "# Initialize the models and fit them to the training data\n",
    "linear_regression = LinearRegression()\n",
    "linear_regression.fit(X_train, y_train)\n",
    "\n",
    "knn = KNeighborsRegressor()\n",
    "knn.fit(X_train, y_train)\n",
    "\n",
    "xgboost = XGBRegressor()\n",
    "xgboost.fit(X_train, y_train)\n",
    "\n",
    "random_forest = RandomForestRegressor()\n",
    "random_forest.fit(X_train, y_train)\n",
    "\n",
    "catboost = CatBoostRegressor()\n",
    "catboost.fit(X_train, y_train)\n",
    "\n",
    "svm_regression = SVR()\n",
    "svm_regression.fit(X_train, y_train)\n",
    "\n",
    "lightgbm = LGBMRegressor()\n",
    "lightgbm.fit(X_train, y_train)\n",
    "\n",
    "# Use the trained models to make predictions on the testing data\n",
    "linear_regression_predictions = linear_regression.predict(X_test)\n",
    "knn_predictions = knn.predict(X_test)\n",
    "xgboost_predictions = xgboost.predict(X_test)\n",
    "random_forest_predictions = random_forest.predict(X_test)\n",
    "catboost_predictions = catboost.predict(X_test)\n",
    "svm_regression_predictions = svm_regression.predict(X_test)\n",
    "lightgbm_predictions = lightgbm.predict(X_test)"
   ]
  },
  {
   "cell_type": "code",
   "execution_count": 16,
   "metadata": {},
   "outputs": [
    {
     "data": {
      "image/png": "[encoded data removed]",
      "text/plain": [
       "<Figure size 640x480 with 1 Axes>"
      ]
     },
     "metadata": {},
     "output_type": "display_data"
    }
   ],
   "source": [
    "# Compute R-squared for each model\n",
    "r2_list = []\n",
    "r2_list.append(r2_score(y_test, linear_regression_predictions))\n",
    "r2_list.append(r2_score(y_test, knn_predictions))\n",
    "r2_list.append(r2_score(y_test, xgboost_predictions))\n",
    "r2_list.append(r2_score(y_test, random_forest_predictions))\n",
    "r2_list.append(r2_score(y_test, catboost_predictions))\n",
    "r2_list.append(r2_score(y_test, svm_regression_predictions))\n",
    "r2_list.append(r2_score(y_test, lightgbm_predictions))\n",
    "\n",
    "\n",
    "# Plot the R-squared scores\n",
    "models = ['Linear Regression', 'KNN', 'XGBoost', 'Random Forest', 'CatBoost', 'SVM Regression', 'LightGBM']\n",
    "plt.bar(models, r2_list)\n",
    "plt.xlabel('Models')\n",
    "plt.ylabel('R-squared Score')\n",
    "plt.xticks(rotation=45)\n",
    "plt.title('Comparison of R-squared Scores')\n",
    "plt.show()\n"
   ]
  },
  {
   "cell_type": "markdown",
   "metadata": {},
   "source": [
    "## Cross-Validation Score"
   ]
  },
  {
   "cell_type": "code",
   "execution_count": 18,
   "metadata": {},
   "outputs": [],
   "source": [
    "# Create a list of all the regressors\n",
    "\n",
    "regressors = [\n",
    "    LinearRegression(), KNeighborsRegressor(), \n",
    "    XGBRegressor(verbose=0), RandomForestRegressor(verbose=0), CatBoostRegressor(verbose=0), SVR(verbose=0), LGBMRegressor(verbose=0)]\n",
    "cv_scores = []\n",
    "\n",
    "# Perform 5-fold cross-validation for each regressor\n",
    "for regressor in regressors:\n",
    "    cv_pipeline = Pipeline([\n",
    "    ('preprocessor', preprocessor),  ## prevent data leakage for each fold\n",
    "    ('regressor', regressor)\n",
    "])\n",
    "    cv = KFold(n_splits=5, shuffle=True, random_state=42)\n",
    "    scores = cross_val_score(cv_pipeline, X, y, cv=cv, scoring='r2')\n",
    "    cv_scores.append(scores)\n",
    "\n"
   ]
  },
  {
   "cell_type": "code",
   "execution_count": 31,
   "metadata": {},
   "outputs": [],
   "source": [
    "# Create a list of all the regressors\n",
    "\n",
    "regressors = [\n",
    "    XGBRegressor(verbose=0), RandomForestRegressor(verbose=0), CatBoostRegressor(verbose=0), SVR(verbose=0), LGBMRegressor(verbose=0)]\n",
    "cv_scores1 = []\n",
    "cv_scores2 = []\n",
    "\n",
    "# Perform 5-fold cross-validation for each regressor\n",
    "for regressor in regressors:\n",
    "    cv_pipeline1 = Pipeline([\n",
    "    ('preprocessor', preprocessor1),  ## prevent data leakage for each fold\n",
    "    ('regressor', regressor)\n",
    "])\n",
    "    cv_pipeline2 = Pipeline([\n",
    "    ('preprocessor', preprocessor2),  ## prevent data leakage for each fold\n",
    "    ('regressor', regressor)\n",
    "])\n",
    "    cv = KFold(n_splits=5, shuffle=True, random_state=42)\n",
    "    scores1 = cross_val_score(cv_pipeline1, X, y, cv=cv, scoring='r2')\n",
    "    scores2 = cross_val_score(cv_pipeline2, X, y, cv=cv, scoring='r2')\n",
    "    \n",
    "    cv_scores1.append(scores1)\n",
    "    cv_scores2.append(scores2)\n",
    "\n"
   ]
  },
  {
   "cell_type": "code",
   "execution_count": 32,
   "metadata": {},
   "outputs": [
    {
     "data": {
      "text/plain": [
       "[array([0.72850961, 0.70191768, 0.72209984, 0.714226  , 0.69854574]),\n",
       " array([0.60254724, 0.58992274, 0.61483424, 0.59227777, 0.60898825]),\n",
       " array([0.84611085, 0.84233515, 0.84821873, 0.84668794, 0.85280672]),\n",
       " array([0.68142453, 0.66858684, 0.68415091, 0.65161843, 0.6710316 ]),\n",
       " array([0.72410724, 0.72013235, 0.72743656, 0.72050525, 0.72895338])]"
      ]
     },
     "execution_count": 32,
     "metadata": {},
     "output_type": "execute_result"
    }
   ],
   "source": [
    "cv_scores1"
   ]
  },
  {
   "cell_type": "code",
   "execution_count": 33,
   "metadata": {},
   "outputs": [
    {
     "data": {
      "text/plain": [
       "[array([0.70771877, 0.7041052 , 0.71305762, 0.70961681, 0.71550691]),\n",
       " array([0.60643323, 0.58949524, 0.61327757, 0.58589588, 0.60646917]),\n",
       " array([0.84291066, 0.84173913, 0.84800723, 0.84630678, 0.85408097]),\n",
       " array([0.65885119, 0.64385643, 0.66042781, 0.62424074, 0.64652472]),\n",
       " array([0.71934885, 0.71714387, 0.72689335, 0.72639562, 0.72395958])]"
      ]
     },
     "execution_count": 33,
     "metadata": {},
     "output_type": "execute_result"
    }
   ],
   "source": [
    "cv_scores2"
   ]
  },
  {
   "cell_type": "code",
   "execution_count": 20,
   "metadata": {},
   "outputs": [
    {
     "data": {
      "image/png": "[encoded data removed]",
      "text/plain": [
       "<Figure size 1200x800 with 1 Axes>"
      ]
     },
     "metadata": {},
     "output_type": "display_data"
    }
   ],
   "source": [
    "# Create a list of regressor names\n",
    "plt.figure(figsize=(12, 8))\n",
    "\n",
    "regressor_names = ['Linear Regression', 'KNN', 'XGBoost', 'Random Forest', 'CatBoost', 'SVM Regression', 'LightGBM']\n",
    "# Plot the cv_scores for each regressor\n",
    "for i in range(len(regressor_names)):\n",
    "    plt.plot(range(1, 6), cv_scores[i], label=regressor_names[i])\n",
    "\n",
    "# Add labels and title to the plot\n",
    "plt.xlabel('Fold')\n",
    "plt.ylabel('CV Score')\n",
    "plt.title('CV Scores of Regressors')\n",
    "plt.legend()\n",
    "\n",
    "# Show the plot\n",
    "plt.show()\n"
   ]
  },
  {
   "cell_type": "code",
   "execution_count": 21,
   "metadata": {},
   "outputs": [
    {
     "data": {
      "text/plain": [
       "array([0.63870478, 0.16862051, 0.71305977, 0.60031617, 0.84723188,\n",
       "       0.67136246, 0.72422696])"
      ]
     },
     "execution_count": 21,
     "metadata": {},
     "output_type": "execute_result"
    }
   ],
   "source": [
    "np.mean(cv_scores, axis=1)"
   ]
  },
  {
   "cell_type": "markdown",
   "metadata": {},
   "source": [
    "catboost, xgboost and svr performs the best, only focus on tuning catboost"
   ]
  },
  {
   "cell_type": "markdown",
   "metadata": {},
   "source": [
    "## Look at Learning Curve of Catboost"
   ]
  },
  {
   "cell_type": "code",
   "execution_count": 22,
   "metadata": {},
   "outputs": [
    {
     "data": {
      "text/plain": [
       "<catboost.core.CatBoostRegressor at 0x13b768860>"
      ]
     },
     "execution_count": 22,
     "metadata": {},
     "output_type": "execute_result"
    }
   ],
   "source": [
    "cat_default = CatBoostRegressor(verbose=0, random_state=42, eval_metric='R2', iterations=1000, early_stopping_rounds=10)\n",
    "cat_default.fit(X_train, y_train,eval_set=[(X_test, y_test)])"
   ]
  },
  {
   "cell_type": "code",
   "execution_count": 23,
   "metadata": {},
   "outputs": [
    {
     "data": {
      "image/png": "[encoded data removed]",
      "text/plain": [
       "<Figure size 1000x500 with 1 Axes>"
      ]
     },
     "metadata": {},
     "output_type": "display_data"
    }
   ],
   "source": [
    "evals_result = cat_default.get_evals_result()\n",
    "\n",
    "plt.figure(figsize=(10, 5))\n",
    "plt.plot(evals_result['learn']['R2'], label='Training R2')\n",
    "plt.plot(evals_result['validation']['R2'], label='Validation R2')\n",
    "plt.title('CatBoost Learning Curve')\n",
    "plt.xlabel('Iterations')\n",
    "plt.ylabel('R2')\n",
    "plt.legend()\n",
    "plt.show()\n"
   ]
  },
  {
   "cell_type": "markdown",
   "metadata": {},
   "source": [
    "# Hyperparam Tuning of Catboost"
   ]
  },
  {
   "cell_type": "code",
   "execution_count": 25,
   "metadata": {},
   "outputs": [],
   "source": [
    "optuna.logging.set_verbosity(optuna.logging.INFO)"
   ]
  },
  {
   "cell_type": "code",
   "execution_count": 69,
   "metadata": {},
   "outputs": [],
   "source": [
    "def log_trial(study, trial):\n",
    "    with open(\"optuna_trials_0327_3.log\", \"a\") as f:\n",
    "        f.write(f\"Trial {trial.number}, Params: {trial.params}, Value: {trial.value}\\n\")\n"
   ]
  },
  {
   "cell_type": "code",
   "execution_count": 70,
   "metadata": {},
   "outputs": [],
   "source": [
    "def objective(trial):\n",
    "\n",
    "    params = {\n",
    "        # \"learning_rate\": trial.suggest_float(\"learning_rate\", 1e-3, 0.1, log=True),\n",
    "        # \"depth\": trial.suggest_int(\"depth\", 3, 10),\n",
    "        \"colsample_bylevel\": trial.suggest_float(\"colsample_bylevel\", 0.7, 1.0),\n",
    "        \"min_data_in_leaf\": trial.suggest_int(\"min_data_in_leaf\", 30, 100),\n",
    "        # \"l2_leaf_reg\": trial.suggest_loguniform('l2_leaf_reg', 1, 10),\n",
    "        # \"grow_policy\": trial.suggest_categorical(\"grow_policy\", [\"Depthwise\", \"Lossguide\", \"SymmetricTree\"]),\n",
    "    }\n",
    "\n",
    "    regressor = CatBoostRegressor(**params, iterations = 1000, verbose=0, random_state=42)\n",
    "    cv_pipeline = Pipeline([\n",
    "    ('preprocessor', preprocessor),  ## prevent data leakage for each fold\n",
    "    ('regressor', regressor)\n",
    "])\n",
    "\n",
    "    cv = KFold(n_splits=5, shuffle=True, random_state=42)\n",
    "    scores = cross_val_score(cv_pipeline, X, y, cv=cv, scoring='r2')\n",
    "    \n",
    "    return np.mean(scores)"
   ]
  },
  {
   "cell_type": "code",
   "execution_count": 71,
   "metadata": {},
   "outputs": [
    {
     "name": "stderr",
     "output_type": "stream",
     "text": [
      "[I 2024-03-27 22:58:32,632] A new study created in memory with name: no-name-f81c3cfc-a86f-4da0-af61-5907798fd3f7\n"
     ]
    },
    {
     "data": {
      "application/vnd.jupyter.widget-view+json": {
       "model_id": "5d49abea9ebf4459b5b88ccc68814854",
       "version_major": 2,
       "version_minor": 0
      },
      "text/plain": [
       "  0%|          | 0/50 [00:00<?, ?it/s]"
      ]
     },
     "metadata": {},
     "output_type": "display_data"
    },
    {
     "name": "stdout",
     "output_type": "stream",
     "text": [
      "[I 2024-03-27 22:58:51,584] Trial 0 finished with value: 0.8473367874100497 and parameters: {'colsample_bylevel': 0.8938012165138116, 'min_data_in_leaf': 57}. Best is trial 0 with value: 0.8473367874100497.\n",
      "[I 2024-03-27 22:59:09,722] Trial 1 finished with value: 0.8454884521052038 and parameters: {'colsample_bylevel': 0.7004402413742544, 'min_data_in_leaf': 100}. Best is trial 0 with value: 0.8473367874100497.\n",
      "[I 2024-03-27 22:59:27,890] Trial 2 finished with value: 0.8463715454242513 and parameters: {'colsample_bylevel': 0.7622887799066101, 'min_data_in_leaf': 60}. Best is trial 0 with value: 0.8473367874100497.\n",
      "[I 2024-03-27 22:59:44,851] Trial 3 finished with value: 0.8460938180188492 and parameters: {'colsample_bylevel': 0.8284096662097552, 'min_data_in_leaf': 87}. Best is trial 0 with value: 0.8473367874100497.\n",
      "[I 2024-03-27 23:00:03,008] Trial 4 finished with value: 0.8456228487562327 and parameters: {'colsample_bylevel': 0.7865410142999241, 'min_data_in_leaf': 38}. Best is trial 0 with value: 0.8473367874100497.\n",
      "[I 2024-03-27 23:00:21,293] Trial 5 finished with value: 0.8463960926072216 and parameters: {'colsample_bylevel': 0.8236116741239498, 'min_data_in_leaf': 46}. Best is trial 0 with value: 0.8473367874100497.\n",
      "[I 2024-03-27 23:00:39,149] Trial 6 finished with value: 0.8468786417138366 and parameters: {'colsample_bylevel': 0.855828310953163, 'min_data_in_leaf': 84}. Best is trial 0 with value: 0.8473367874100497.\n",
      "[I 2024-03-27 23:00:56,091] Trial 7 finished with value: 0.8466144510054636 and parameters: {'colsample_bylevel': 0.9486197024488531, 'min_data_in_leaf': 89}. Best is trial 0 with value: 0.8473367874100497.\n",
      "[I 2024-03-27 23:01:14,362] Trial 8 finished with value: 0.8454645934355394 and parameters: {'colsample_bylevel': 0.7069477869292733, 'min_data_in_leaf': 45}. Best is trial 0 with value: 0.8473367874100497.\n",
      "[I 2024-03-27 23:01:31,389] Trial 9 finished with value: 0.84634066551011 and parameters: {'colsample_bylevel': 0.8447144374483517, 'min_data_in_leaf': 43}. Best is trial 0 with value: 0.8473367874100497.\n",
      "[I 2024-03-27 23:01:49,327] Trial 10 finished with value: 0.8468750263974651 and parameters: {'colsample_bylevel': 0.9464334152497857, 'min_data_in_leaf': 67}. Best is trial 0 with value: 0.8473367874100497.\n",
      "[I 2024-03-27 23:02:06,655] Trial 11 finished with value: 0.8461565284990218 and parameters: {'colsample_bylevel': 0.8910647440564066, 'min_data_in_leaf': 63}. Best is trial 0 with value: 0.8473367874100497.\n",
      "[I 2024-03-27 23:02:24,090] Trial 12 finished with value: 0.8472073545353458 and parameters: {'colsample_bylevel': 0.8928551089527207, 'min_data_in_leaf': 85}. Best is trial 0 with value: 0.8473367874100497.\n",
      "[I 2024-03-27 23:02:42,928] Trial 13 finished with value: 0.8463315902567942 and parameters: {'colsample_bylevel': 0.9105871449111046, 'min_data_in_leaf': 74}. Best is trial 0 with value: 0.8473367874100497.\n",
      "[I 2024-03-27 23:03:00,392] Trial 14 finished with value: 0.8460507004786415 and parameters: {'colsample_bylevel': 0.9883451122625793, 'min_data_in_leaf': 54}. Best is trial 0 with value: 0.8473367874100497.\n",
      "[I 2024-03-27 23:03:17,382] Trial 15 finished with value: 0.8475720790980606 and parameters: {'colsample_bylevel': 0.8955901943989655, 'min_data_in_leaf': 76}. Best is trial 15 with value: 0.8475720790980606.\n",
      "[I 2024-03-27 23:03:35,077] Trial 16 finished with value: 0.8475828932281398 and parameters: {'colsample_bylevel': 0.9185128408326322, 'min_data_in_leaf': 30}. Best is trial 16 with value: 0.8475828932281398.\n",
      "[I 2024-03-27 23:03:52,014] Trial 17 finished with value: 0.8463758947786095 and parameters: {'colsample_bylevel': 0.9888073545468696, 'min_data_in_leaf': 73}. Best is trial 16 with value: 0.8475828932281398.\n",
      "[I 2024-03-27 23:04:09,432] Trial 18 finished with value: 0.8464971054109194 and parameters: {'colsample_bylevel': 0.9387970608047296, 'min_data_in_leaf': 32}. Best is trial 16 with value: 0.8475828932281398.\n",
      "[I 2024-03-27 23:04:26,573] Trial 19 finished with value: 0.8460276829356742 and parameters: {'colsample_bylevel': 0.8683514311501198, 'min_data_in_leaf': 75}. Best is trial 16 with value: 0.8475828932281398.\n",
      "[I 2024-03-27 23:04:44,197] Trial 20 finished with value: 0.8468149544106339 and parameters: {'colsample_bylevel': 0.9261089539125026, 'min_data_in_leaf': 30}. Best is trial 16 with value: 0.8475828932281398.\n",
      "[I 2024-03-27 23:05:02,121] Trial 21 finished with value: 0.8461291512431501 and parameters: {'colsample_bylevel': 0.8858859880769719, 'min_data_in_leaf': 56}. Best is trial 16 with value: 0.8475828932281398.\n",
      "[I 2024-03-27 23:05:19,505] Trial 22 finished with value: 0.8456196771843324 and parameters: {'colsample_bylevel': 0.9627598350342466, 'min_data_in_leaf': 68}. Best is trial 16 with value: 0.8475828932281398.\n",
      "[I 2024-03-27 23:05:37,121] Trial 23 finished with value: 0.8462775168866206 and parameters: {'colsample_bylevel': 0.9121646127573656, 'min_data_in_leaf': 54}. Best is trial 16 with value: 0.8475828932281398.\n",
      "[I 2024-03-27 23:05:54,397] Trial 24 finished with value: 0.8467223202339114 and parameters: {'colsample_bylevel': 0.8696712369570601, 'min_data_in_leaf': 79}. Best is trial 16 with value: 0.8475828932281398.\n",
      "[I 2024-03-27 23:06:11,583] Trial 25 finished with value: 0.8462943793518536 and parameters: {'colsample_bylevel': 0.9681501233406902, 'min_data_in_leaf': 37}. Best is trial 16 with value: 0.8475828932281398.\n",
      "[I 2024-03-27 23:06:29,036] Trial 26 finished with value: 0.84656190233949 and parameters: {'colsample_bylevel': 0.9106653608349559, 'min_data_in_leaf': 96}. Best is trial 16 with value: 0.8475828932281398.\n",
      "[I 2024-03-27 23:06:46,551] Trial 27 finished with value: 0.8455567108312507 and parameters: {'colsample_bylevel': 0.8291312023480515, 'min_data_in_leaf': 49}. Best is trial 16 with value: 0.8475828932281398.\n",
      "[I 2024-03-27 23:07:04,529] Trial 28 finished with value: 0.845754321364238 and parameters: {'colsample_bylevel': 0.7988485897496621, 'min_data_in_leaf': 79}. Best is trial 16 with value: 0.8475828932281398.\n",
      "[I 2024-03-27 23:07:22,090] Trial 29 finished with value: 0.8467969275992049 and parameters: {'colsample_bylevel': 0.9223915700806414, 'min_data_in_leaf': 100}. Best is trial 16 with value: 0.8475828932281398.\n",
      "[I 2024-03-27 23:07:39,392] Trial 30 finished with value: 0.8462345130884025 and parameters: {'colsample_bylevel': 0.8776388815689709, 'min_data_in_leaf': 38}. Best is trial 16 with value: 0.8475828932281398.\n",
      "[I 2024-03-27 23:07:56,769] Trial 31 finished with value: 0.847319560105362 and parameters: {'colsample_bylevel': 0.9024041293580557, 'min_data_in_leaf': 92}. Best is trial 16 with value: 0.8475828932281398.\n",
      "[I 2024-03-27 23:08:14,194] Trial 32 finished with value: 0.8470028546381855 and parameters: {'colsample_bylevel': 0.8980788722708397, 'min_data_in_leaf': 96}. Best is trial 16 with value: 0.8475828932281398.\n",
      "[I 2024-03-27 23:08:32,320] Trial 33 finished with value: 0.847255958414455 and parameters: {'colsample_bylevel': 0.9340742355832444, 'min_data_in_leaf': 93}. Best is trial 16 with value: 0.8475828932281398.\n",
      "[I 2024-03-27 23:08:50,752] Trial 34 finished with value: 0.8462046593248542 and parameters: {'colsample_bylevel': 0.8461371835837327, 'min_data_in_leaf': 82}. Best is trial 16 with value: 0.8475828932281398.\n",
      "[I 2024-03-27 23:09:08,017] Trial 35 finished with value: 0.844589382741386 and parameters: {'colsample_bylevel': 0.961959429895647, 'min_data_in_leaf': 58}. Best is trial 16 with value: 0.8475828932281398.\n",
      "[I 2024-03-27 23:09:25,189] Trial 36 finished with value: 0.8471082783156234 and parameters: {'colsample_bylevel': 0.8567690984089129, 'min_data_in_leaf': 63}. Best is trial 16 with value: 0.8475828932281398.\n",
      "[I 2024-03-27 23:09:42,603] Trial 37 finished with value: 0.8458271022012273 and parameters: {'colsample_bylevel': 0.9034143548977326, 'min_data_in_leaf': 89}. Best is trial 16 with value: 0.8475828932281398.\n",
      "[I 2024-03-27 23:10:01,075] Trial 38 finished with value: 0.8461871526134589 and parameters: {'colsample_bylevel': 0.7577249591635551, 'min_data_in_leaf': 71}. Best is trial 16 with value: 0.8475828932281398.\n",
      "[I 2024-03-27 23:10:18,742] Trial 39 finished with value: 0.8465883709848988 and parameters: {'colsample_bylevel': 0.8187589913803144, 'min_data_in_leaf': 79}. Best is trial 16 with value: 0.8475828932281398.\n",
      "[I 2024-03-27 23:10:36,237] Trial 40 finished with value: 0.8467710720375425 and parameters: {'colsample_bylevel': 0.9223935218401466, 'min_data_in_leaf': 49}. Best is trial 16 with value: 0.8475828932281398.\n",
      "[I 2024-03-27 23:10:53,654] Trial 41 finished with value: 0.8463962067802975 and parameters: {'colsample_bylevel': 0.9453167866142009, 'min_data_in_leaf': 91}. Best is trial 16 with value: 0.8475828932281398.\n",
      "[I 2024-03-27 23:11:11,231] Trial 42 finished with value: 0.8468480509225002 and parameters: {'colsample_bylevel': 0.9330711899777755, 'min_data_in_leaf': 93}. Best is trial 16 with value: 0.8475828932281398.\n",
      "[I 2024-03-27 23:11:28,367] Trial 43 finished with value: 0.8465131499163825 and parameters: {'colsample_bylevel': 0.8645980146881221, 'min_data_in_leaf': 99}. Best is trial 16 with value: 0.8475828932281398.\n",
      "[I 2024-03-27 23:11:45,673] Trial 44 finished with value: 0.8453943955538017 and parameters: {'colsample_bylevel': 0.8889715669000975, 'min_data_in_leaf': 87}. Best is trial 16 with value: 0.8475828932281398.\n",
      "[I 2024-03-27 23:12:03,055] Trial 45 finished with value: 0.846441324215028 and parameters: {'colsample_bylevel': 0.8798918100579181, 'min_data_in_leaf': 93}. Best is trial 16 with value: 0.8475828932281398.\n",
      "[I 2024-03-27 23:12:20,614] Trial 46 finished with value: 0.84631649653561 and parameters: {'colsample_bylevel': 0.9168121221727982, 'min_data_in_leaf': 83}. Best is trial 16 with value: 0.8475828932281398.\n",
      "[I 2024-03-27 23:12:37,957] Trial 47 finished with value: 0.8469961084265275 and parameters: {'colsample_bylevel': 0.9515823045139533, 'min_data_in_leaf': 35}. Best is trial 16 with value: 0.8475828932281398.\n",
      "[I 2024-03-27 23:12:55,045] Trial 48 finished with value: 0.8478746919847737 and parameters: {'colsample_bylevel': 0.9823276993302044, 'min_data_in_leaf': 43}. Best is trial 48 with value: 0.8478746919847737.\n",
      "[I 2024-03-27 23:13:12,345] Trial 49 finished with value: 0.8458339591223529 and parameters: {'colsample_bylevel': 0.9759141710752578, 'min_data_in_leaf': 41}. Best is trial 48 with value: 0.8478746919847737.\n"
     ]
    }
   ],
   "source": [
    "pruner = optuna.pruners.MedianPruner(n_warmup_steps=10)\n",
    "study = optuna.create_study(pruner=pruner ,direction='maximize')\n",
    "study.optimize(objective, n_trials=50, show_progress_bar = True, callbacks=[log_trial])"
   ]
  },
  {
   "cell_type": "markdown",
   "metadata": {},
   "source": [
    "Trial 33, Params: {'learning_rate': 0.09966350211048373, 'depth': 6, 'colsample_bylevel': 0.8123896401483792, 'min_data_in_leaf': 36, 'l2_leaf_reg': 4.327467555973681, 'grow_policy': 'SymmetricTree'}, Value: 0.8311007339707256"
   ]
  },
  {
   "cell_type": "markdown",
   "metadata": {},
   "source": [
    "Best trial: {'learning_rate': 0.0999031637785828, 'depth': 9, 'colsample_bylevel': 0.6510500841306683, 'min_data_in_leaf': 60, 'l2_leaf_reg': 1.439528364552419, 'grow_policy': 'Depthwise'}\n"
   ]
  },
  {
   "cell_type": "markdown",
   "metadata": {},
   "source": [
    "Best trial: {'learning_rate': 0.09935127352589898, 'depth': 10, 'colsample_bylevel': 0.8910216469525587, 'min_data_in_leaf': 40, 'l2_leaf_reg': 1.1462170259892346, 'grow_policy': 'Depthwise'}\n"
   ]
  },
  {
   "cell_type": "markdown",
   "metadata": {},
   "source": [
    "Best trial: {'colsample_bylevel': 0.9742367765919205}\n"
   ]
  },
  {
   "cell_type": "code",
   "execution_count": 72,
   "metadata": {},
   "outputs": [
    {
     "name": "stdout",
     "output_type": "stream",
     "text": [
      "Best trial: {'colsample_bylevel': 0.9823276993302044, 'min_data_in_leaf': 43}\n"
     ]
    }
   ],
   "source": [
    "print('Best trial:', study.best_trial.params)"
   ]
  },
  {
   "cell_type": "code",
   "execution_count": 73,
   "metadata": {},
   "outputs": [],
   "source": [
    "import json\n",
    "\n",
    "with open('best_trial_col+leaf_50.json', 'w') as f:\n",
    "    json.dump(study.best_trial.params, f)"
   ]
  },
  {
   "cell_type": "markdown",
   "metadata": {},
   "source": []
  },
  {
   "cell_type": "markdown",
   "metadata": {},
   "source": [
    "可选best params：\n",
    "colsample_bylevel=0.8123896401483792，colsample_bylevel: 0.9955308757638807，  \n",
    "{'colsample_bylevel': 0.9823276993302044, 'min_data_in_leaf': 43}"
   ]
  },
  {
   "cell_type": "markdown",
   "metadata": {},
   "source": [
    "# Compare"
   ]
  },
  {
   "cell_type": "markdown",
   "metadata": {},
   "source": [
    "### Single Test Prediction"
   ]
  },
  {
   "cell_type": "code",
   "execution_count": 31,
   "metadata": {},
   "outputs": [],
   "source": [
    "regressors = [CatBoostRegressor(verbose=0, random_state=42, iterations=10000, eval_metric='R2'),\n",
    "                CatBoostRegressor(verbose=0, random_state=42, iterations=10000, eval_metric='R2', colsample_bylevel=0.8123896401483792),\n",
    "              CatBoostRegressor(verbose=0, random_state=42, iterations=10000, eval_metric='R2', **study.best_trial.params)]\n",
    "\n",
    "r2_cat_list = []\n",
    "for regressor in regressors:\n",
    "    regressor.fit(X_train, y_train,eval_set=[(X_test, y_test)])\n",
    "    y_pred = regressor.predict(X_test)\n",
    "    r2_cat_list.append(r2_score(y_test, y_pred))"
   ]
  },
  {
   "cell_type": "code",
   "execution_count": 32,
   "metadata": {},
   "outputs": [
    {
     "data": {
      "text/plain": [
       "[0.8536099662103243, 0.8549335665561361, 0.8540718972587088]"
      ]
     },
     "execution_count": 32,
     "metadata": {},
     "output_type": "execute_result"
    }
   ],
   "source": [
    "r2_cat_list"
   ]
  },
  {
   "cell_type": "markdown",
   "metadata": {},
   "source": [
    "### Cross-validation Score"
   ]
  },
  {
   "cell_type": "code",
   "execution_count": 74,
   "metadata": {},
   "outputs": [
    {
     "name": "stdout",
     "output_type": "stream",
     "text": [
      "[array([0.85316919, 0.85075267, 0.8558779 , 0.85331215, 0.85993069]), array([0.85225631, 0.85022183, 0.85428538, 0.85308913, 0.85993505])]\n"
     ]
    }
   ],
   "source": [
    "regressors = [\n",
    "    # CatBoostRegressor(verbose=0, random_state=42, iterations=10000, eval_metric='R2'),\n",
    "                # CatBoostRegressor(verbose=0, random_state=42, iterations=10000, eval_metric='R2', colsample_bylevel=0.8123896401483792),\n",
    "              CatBoostRegressor(verbose=0, random_state=42, iterations=16000, eval_metric='R2', colsample_bylevel=0.9955308757638807),\n",
    "              CatBoostRegressor(verbose=0, random_state=42, iterations=16000, eval_metric='R2', **study.best_trial.params)]\n",
    "cv_scores_cat = []\n",
    "\n",
    "# Perform 5-fold cross-validation for each regressor\n",
    "for regressor in regressors:\n",
    "    cv_pipeline = Pipeline([\n",
    "    ('preprocessor', preprocessor),  ## prevent data leakage for each fold\n",
    "    ('regressor', regressor)\n",
    "])\n",
    "    cv = KFold(n_splits=5, shuffle=True, random_state=42)\n",
    "    scores = cross_val_score(cv_pipeline, X, y, cv=cv, scoring='r2')\n",
    "    cv_scores_cat.append(scores)\n",
    "\n",
    "print(cv_scores_cat)\n",
    "\n"
   ]
  },
  {
   "cell_type": "code",
   "execution_count": 75,
   "metadata": {},
   "outputs": [
    {
     "name": "stdout",
     "output_type": "stream",
     "text": [
      "[0.854608520079456, 0.8539575400077064]\n"
     ]
    }
   ],
   "source": [
    "print([np.mean(x) for x in cv_scores_cat])"
   ]
  },
  {
   "cell_type": "markdown",
   "metadata": {},
   "source": [
    "### Plot Learning Curve"
   ]
  },
  {
   "cell_type": "markdown",
   "metadata": {},
   "source": [
    "to examine if there is any overfitting"
   ]
  },
  {
   "cell_type": "code",
   "execution_count": null,
   "metadata": {},
   "outputs": [],
   "source": [
    "cat_best = CatBoostRegressor(verbose=0, random_state=42, iterations=15000, eval_metric='R2', **study.best_trial.params)\n",
    "cat_best.fit(X_train, y_train,eval_set=[(X_test, y_test)])\n"
   ]
  },
  {
   "cell_type": "code",
   "execution_count": 55,
   "metadata": {},
   "outputs": [
    {
     "data": {
      "image/png": "[encoded data removed]",
      "text/plain": [
       "<Figure size 1000x500 with 1 Axes>"
      ]
     },
     "metadata": {},
     "output_type": "display_data"
    }
   ],
   "source": [
    "evals_result = cat_best.get_evals_result()\n",
    "\n",
    "plt.figure(figsize=(10, 5))\n",
    "plt.plot(evals_result['learn']['R2'], label='Training R2')\n",
    "plt.plot(evals_result['validation']['R2'], label='Validation R2')\n",
    "plt.title('CatBoost Learning Curve')\n",
    "plt.xlabel('Iterations')\n",
    "plt.ylabel('R2')\n",
    "plt.legend()\n",
    "plt.show()"
   ]
  },
  {
   "cell_type": "code",
   "execution_count": null,
   "metadata": {},
   "outputs": [],
   "source": []
  },
  {
   "cell_type": "code",
   "execution_count": null,
   "metadata": {},
   "outputs": [],
   "source": []
  },
  {
   "cell_type": "markdown",
   "metadata": {},
   "source": [
    "CatBoostRegressor(verbose=0): array([0.84611085, 0.84233515, 0.84821873, 0.84668794, 0.85280672])  \n",
    "CatBoostRegressor(iterations = 5000, early_stopping_rounds=10, verbose=0): array([0.85089178, 0.84897483, 0.85235442, 0.85138014, 0.85768139])  \n",
    "\n",
    "CatBoostRegressor(iterations = 10000, early_stopping_rounds=10, verbose=0, random_state=42): [0.85192791, 0.84981073, 0.8545769 , 0.85179019, 0.85987853]  \n",
    "CatBoostRegressor(**best_params_30, iterations = 10000, early_stopping_rounds=10, verbose=0, random_state=42): [0.80586611, 0.80034731, 0.81394158, 0.81441955, 0.81914308]"
   ]
  },
  {
   "cell_type": "markdown",
   "metadata": {},
   "source": []
  },
  {
   "cell_type": "code",
   "execution_count": 36,
   "metadata": {},
   "outputs": [
    {
     "name": "stdout",
     "output_type": "stream",
     "text": [
      "[0.853596852426824, 0.8538020582532397, 0.8542571191811685]\n"
     ]
    }
   ],
   "source": [
    "print([np.mean(x) for x in cv_scores_cat])"
   ]
  },
  {
   "cell_type": "markdown",
   "metadata": {},
   "source": [
    "# Examine Feature Importance"
   ]
  },
  {
   "cell_type": "code",
   "execution_count": 7,
   "metadata": {},
   "outputs": [],
   "source": [
    "import pickle as pkl\n",
    "model = pkl.load(open('model/cat_5.pkl', 'rb'))"
   ]
  },
  {
   "cell_type": "code",
   "execution_count": 18,
   "metadata": {},
   "outputs": [
    {
     "data": {
      "text/plain": [
       "(8000, 55)"
      ]
     },
     "execution_count": 18,
     "metadata": {},
     "output_type": "execute_result"
    }
   ],
   "source": [
    "X.shape"
   ]
  },
  {
   "cell_type": "code",
   "execution_count": 24,
   "metadata": {},
   "outputs": [
    {
     "data": {
      "image/png": "[encoded data removed]",
      "text/plain": [
       "<Figure size 2500x800 with 1 Axes>"
      ]
     },
     "metadata": {},
     "output_type": "display_data"
    }
   ],
   "source": [
    "feature_names = ['self_eval', 'teacher_eval', 'extracurricular', \n",
    "       'SRP_1', 'SRP_2', 'SRP_3', 'SRP_4', 'SRP_5', 'SRP_6', 'SRP_7', 'SRP_8',\n",
    "       'SRP_9', 'SRP_10', 'SRP_11', 'SRP_12', 'SRP_13', 'SRP_14', 'SRP_15',\n",
    "       'SRP_16', 'SRP_17', 'SRP_18', 'SRP_19', 'SRP_20', 'SRP_21', 'SRP_22',\n",
    "       'SRP_23', 'SRP_24', 'SRP_25', 'SRP_26', 'SRP_27', 'SRP_28', 'SRP_29',\n",
    "       'SRP_30', 'SRP_31', 'SRP_32', 'SRP_33', 'SRP_34', 'SRP_35', 'SRP_36',\n",
    "       'SRP_37', 'SRP_38', 'SRP_39', 'SRP_40', 'SRP_41', 'SRP_42', 'SRP_43',\n",
    "       'SRP_44', 'SRP_45', 'SRP_46', 'SRP_47', 'SRP_48', 'SRP_49', 'SRP_50','district_1', 'district_2', 'district_3', 'district_4', 'district_5', 'district_6', 'district_7']\n",
    "\n",
    "\n",
    "# Get feature importance\n",
    "feature_importance = model.get_feature_importance()\n",
    "\n",
    "# Create a dictionary of feature importance with corresponding names\n",
    "feature_importance_dict = dict(zip(feature_names, feature_importance))\n",
    "\n",
    "# Sort the feature importance dictionary by values in descending order\n",
    "sorted_feature_importance = sorted(feature_importance_dict.items(), key=lambda x: x[1], reverse=True)\n",
    "\n",
    "# Extract the sorted feature names and importance values\n",
    "sorted_feature_names = [item[0] for item in sorted_feature_importance]\n",
    "sorted_feature_values = [item[1] for item in sorted_feature_importance]\n",
    "\n",
    "# Plot the sorted feature importance\n",
    "plt.figure(figsize=(25, 8))\n",
    "plt.bar(sorted_feature_names, sorted_feature_values)\n",
    "plt.xlabel('Feature')\n",
    "plt.ylabel('Importance')\n",
    "plt.xticks(rotation=60)\n",
    "plt.title('Feature Importance')\n",
    "plt.show()\n"
   ]
  },
  {
   "cell_type": "markdown",
   "metadata": {},
   "source": [
    "# Use on test.csv"
   ]
  },
  {
   "cell_type": "code",
   "execution_count": 58,
   "metadata": {},
   "outputs": [
    {
     "data": {
      "text/html": [
       "<div>\n",
       "<style scoped>\n",
       "    .dataframe tbody tr th:only-of-type {\n",
       "        vertical-align: middle;\n",
       "    }\n",
       "\n",
       "    .dataframe tbody tr th {\n",
       "        vertical-align: top;\n",
       "    }\n",
       "\n",
       "    .dataframe thead th {\n",
       "        text-align: right;\n",
       "    }\n",
       "</style>\n",
       "<table border=\"1\" class=\"dataframe\">\n",
       "  <thead>\n",
       "    <tr style=\"text-align: right;\">\n",
       "      <th></th>\n",
       "      <th>SEQN</th>\n",
       "      <th>self_eval</th>\n",
       "      <th>teacher_eval</th>\n",
       "      <th>extracurricular</th>\n",
       "      <th>district</th>\n",
       "      <th>SRP_1</th>\n",
       "      <th>SRP_2</th>\n",
       "      <th>SRP_3</th>\n",
       "      <th>SRP_4</th>\n",
       "      <th>SRP_5</th>\n",
       "      <th>...</th>\n",
       "      <th>SRP_41</th>\n",
       "      <th>SRP_42</th>\n",
       "      <th>SRP_43</th>\n",
       "      <th>SRP_44</th>\n",
       "      <th>SRP_45</th>\n",
       "      <th>SRP_46</th>\n",
       "      <th>SRP_47</th>\n",
       "      <th>SRP_48</th>\n",
       "      <th>SRP_49</th>\n",
       "      <th>SRP_50</th>\n",
       "    </tr>\n",
       "  </thead>\n",
       "  <tbody>\n",
       "    <tr>\n",
       "      <th>0</th>\n",
       "      <td>492834</td>\n",
       "      <td>1</td>\n",
       "      <td>1</td>\n",
       "      <td>5</td>\n",
       "      <td>3</td>\n",
       "      <td>-0.873</td>\n",
       "      <td>-0.337</td>\n",
       "      <td>-0.350</td>\n",
       "      <td>0.845</td>\n",
       "      <td>-0.437</td>\n",
       "      <td>...</td>\n",
       "      <td>0.025</td>\n",
       "      <td>0.154</td>\n",
       "      <td>-0.417</td>\n",
       "      <td>-1.672</td>\n",
       "      <td>2.029</td>\n",
       "      <td>1.802</td>\n",
       "      <td>-0.302</td>\n",
       "      <td>0.051</td>\n",
       "      <td>-0.350</td>\n",
       "      <td>1.438</td>\n",
       "    </tr>\n",
       "    <tr>\n",
       "      <th>1</th>\n",
       "      <td>309349</td>\n",
       "      <td>3</td>\n",
       "      <td>2</td>\n",
       "      <td>9</td>\n",
       "      <td>6</td>\n",
       "      <td>-0.948</td>\n",
       "      <td>1.002</td>\n",
       "      <td>-0.936</td>\n",
       "      <td>-0.100</td>\n",
       "      <td>1.134</td>\n",
       "      <td>...</td>\n",
       "      <td>0.079</td>\n",
       "      <td>0.189</td>\n",
       "      <td>1.065</td>\n",
       "      <td>-0.679</td>\n",
       "      <td>-2.169</td>\n",
       "      <td>1.265</td>\n",
       "      <td>0.828</td>\n",
       "      <td>0.078</td>\n",
       "      <td>-0.540</td>\n",
       "      <td>-1.024</td>\n",
       "    </tr>\n",
       "    <tr>\n",
       "      <th>2</th>\n",
       "      <td>468308</td>\n",
       "      <td>1</td>\n",
       "      <td>1</td>\n",
       "      <td>1</td>\n",
       "      <td>1</td>\n",
       "      <td>-0.356</td>\n",
       "      <td>0.283</td>\n",
       "      <td>0.708</td>\n",
       "      <td>0.740</td>\n",
       "      <td>-1.205</td>\n",
       "      <td>...</td>\n",
       "      <td>1.890</td>\n",
       "      <td>0.196</td>\n",
       "      <td>0.345</td>\n",
       "      <td>0.116</td>\n",
       "      <td>0.219</td>\n",
       "      <td>0.555</td>\n",
       "      <td>-0.829</td>\n",
       "      <td>0.019</td>\n",
       "      <td>0.906</td>\n",
       "      <td>2.146</td>\n",
       "    </tr>\n",
       "    <tr>\n",
       "      <th>3</th>\n",
       "      <td>838812</td>\n",
       "      <td>2</td>\n",
       "      <td>2</td>\n",
       "      <td>2</td>\n",
       "      <td>1</td>\n",
       "      <td>-0.135</td>\n",
       "      <td>-2.024</td>\n",
       "      <td>0.922</td>\n",
       "      <td>1.138</td>\n",
       "      <td>0.167</td>\n",
       "      <td>...</td>\n",
       "      <td>-0.035</td>\n",
       "      <td>0.496</td>\n",
       "      <td>-0.662</td>\n",
       "      <td>1.664</td>\n",
       "      <td>0.037</td>\n",
       "      <td>-1.263</td>\n",
       "      <td>0.043</td>\n",
       "      <td>-0.021</td>\n",
       "      <td>0.451</td>\n",
       "      <td>0.617</td>\n",
       "    </tr>\n",
       "    <tr>\n",
       "      <th>4</th>\n",
       "      <td>947936</td>\n",
       "      <td>4</td>\n",
       "      <td>4</td>\n",
       "      <td>8</td>\n",
       "      <td>6</td>\n",
       "      <td>-0.955</td>\n",
       "      <td>0.906</td>\n",
       "      <td>0.494</td>\n",
       "      <td>-0.020</td>\n",
       "      <td>-0.515</td>\n",
       "      <td>...</td>\n",
       "      <td>0.698</td>\n",
       "      <td>0.004</td>\n",
       "      <td>0.044</td>\n",
       "      <td>-0.977</td>\n",
       "      <td>1.434</td>\n",
       "      <td>-0.747</td>\n",
       "      <td>0.453</td>\n",
       "      <td>0.573</td>\n",
       "      <td>-1.039</td>\n",
       "      <td>-0.782</td>\n",
       "    </tr>\n",
       "  </tbody>\n",
       "</table>\n",
       "<p>5 rows × 55 columns</p>\n",
       "</div>"
      ],
      "text/plain": [
       "     SEQN  self_eval  teacher_eval  extracurricular  district  SRP_1  SRP_2  \\\n",
       "0  492834          1             1                5         3 -0.873 -0.337   \n",
       "1  309349          3             2                9         6 -0.948  1.002   \n",
       "2  468308          1             1                1         1 -0.356  0.283   \n",
       "3  838812          2             2                2         1 -0.135 -2.024   \n",
       "4  947936          4             4                8         6 -0.955  0.906   \n",
       "\n",
       "   SRP_3  SRP_4  SRP_5  ...  SRP_41  SRP_42  SRP_43  SRP_44  SRP_45  SRP_46  \\\n",
       "0 -0.350  0.845 -0.437  ...   0.025   0.154  -0.417  -1.672   2.029   1.802   \n",
       "1 -0.936 -0.100  1.134  ...   0.079   0.189   1.065  -0.679  -2.169   1.265   \n",
       "2  0.708  0.740 -1.205  ...   1.890   0.196   0.345   0.116   0.219   0.555   \n",
       "3  0.922  1.138  0.167  ...  -0.035   0.496  -0.662   1.664   0.037  -1.263   \n",
       "4  0.494 -0.020 -0.515  ...   0.698   0.004   0.044  -0.977   1.434  -0.747   \n",
       "\n",
       "   SRP_47  SRP_48  SRP_49  SRP_50  \n",
       "0  -0.302   0.051  -0.350   1.438  \n",
       "1   0.828   0.078  -0.540  -1.024  \n",
       "2  -0.829   0.019   0.906   2.146  \n",
       "3   0.043  -0.021   0.451   0.617  \n",
       "4   0.453   0.573  -1.039  -0.782  \n",
       "\n",
       "[5 rows x 55 columns]"
      ]
     },
     "execution_count": 58,
     "metadata": {},
     "output_type": "execute_result"
    }
   ],
   "source": [
    "df_test = pd.read_csv('test.csv')\n",
    "df_test.head()"
   ]
  },
  {
   "cell_type": "code",
   "execution_count": 59,
   "metadata": {},
   "outputs": [],
   "source": [
    "X_training = preproc_pipeline.fit_transform(X)\n",
    "y_training = y\n",
    "\n",
    "X_testing = preproc_pipeline.transform(df_test)"
   ]
  },
  {
   "cell_type": "code",
   "execution_count": 60,
   "metadata": {},
   "outputs": [
    {
     "data": {
      "text/plain": [
       "<catboost.core.CatBoostRegressor at 0x14a5d0410>"
      ]
     },
     "execution_count": 60,
     "metadata": {},
     "output_type": "execute_result"
    }
   ],
   "source": [
    "cat_final = CatBoostRegressor(verbose=0, random_state=42, eval_metric='R2', iterations=16000, **study.best_trial.params)\n",
    "cat_final.fit(X_training, y)"
   ]
  },
  {
   "cell_type": "code",
   "execution_count": 61,
   "metadata": {},
   "outputs": [],
   "source": [
    "import pickle\n",
    "pickle.dump(cat_final, open('model/cat_5.pkl', 'wb'))"
   ]
  },
  {
   "cell_type": "code",
   "execution_count": 62,
   "metadata": {},
   "outputs": [],
   "source": [
    "cat_final_predictions = cat_final.predict(X_testing)"
   ]
  },
  {
   "cell_type": "code",
   "execution_count": 63,
   "metadata": {},
   "outputs": [],
   "source": [
    "submission = df_test[['SEQN']]\n",
    "submission['y'] = cat_final_predictions"
   ]
  },
  {
   "cell_type": "code",
   "execution_count": 64,
   "metadata": {},
   "outputs": [],
   "source": [
    "submission.to_csv('submission/503kaggle_submission_5.csv', index=False)"
   ]
  },
  {
   "cell_type": "code",
   "execution_count": null,
   "metadata": {},
   "outputs": [],
   "source": []
  }
 ],
 "metadata": {
  "kernelspec": {
   "display_name": "Python 3 (ipykernel)",
   "language": "python",
   "name": "python3"
  },
  "language_info": {
   "codemirror_mode": {
    "name": "ipython",
    "version": 3
   },
   "file_extension": ".py",
   "mimetype": "text/x-python",
   "name": "python",
   "nbconvert_exporter": "python",
   "pygments_lexer": "ipython3",
   "version": "3.11.5"
  }
 },
 "nbformat": 4,
 "nbformat_minor": 2
}
